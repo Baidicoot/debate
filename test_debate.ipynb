{
 "cells": [
  {
   "cell_type": "code",
   "execution_count": null,
   "metadata": {},
   "outputs": [],
   "source": [
    "from dotenv import load_dotenv\n",
    "from debate import Debate, DebateConfig, Judge, Transcript, Message, APIMessages\n",
    "from typing import Dict, List\n",
    "from models.openai import OpenAIAgent, OpenAIJudge\n",
    "import os\n",
    "from openai import AsyncOpenAI\n",
    "import asyncio\n",
    "\n",
    "load_dotenv()\n",
    "\n",
    "OAI_API_KEY = os.getenv(\"OPENAI_API_KEY\")\n",
    "\n",
    "client = AsyncOpenAI(api_key=OAI_API_KEY)\n",
    "\n",
    "config = DebateConfig(\n",
    "    topic=\"How heavily should we regulate AI?\",\n",
    "    self_stance=\"A heavy-regulation policy which you should describe in detail in your opening statement.\",\n",
    "    opponent_stance=\"A light-regulation policy which you should describe in detail in your opening statement.\"\n",
    ")\n",
    "\n",
    "flipped_config = DebateConfig(\n",
    "    topic=\"How heavily should we regulate AI?\",\n",
    "    self_stance=\"A light-regulation policy which you should describe in detail in your opening statement.\",\n",
    "    opponent_stance=\"A heavy-regulation policy which you should describe in detail in your opening statement.\"\n",
    ")\n",
    "\n",
    "debater_a = OpenAIAgent(config, client, model=\"gpt-4o-mini\")\n",
    "debater_b = OpenAIAgent(flipped_config, client, model=\"gpt-4o-mini\")\n",
    "\n",
    "judge = OpenAIJudge(config, client, model=\"gpt-4o-mini\")\n",
    "\n",
    "debate = Debate(debaters=(debater_a, debater_b), judge=judge, debug_log=True)\n",
    "\n",
    "print(await debate.run())"
   ]
  },
  {
   "cell_type": "code",
   "execution_count": null,
   "metadata": {},
   "outputs": [],
   "source": [
    "for row in debater_a.render():\n",
    "    print(f\"{row['role']}: {row['content']}\")"
   ]
  }
 ],
 "metadata": {
  "kernelspec": {
   "display_name": ".venv",
   "language": "python",
   "name": "python3"
  },
  "language_info": {
   "codemirror_mode": {
    "name": "ipython",
    "version": 3
   },
   "file_extension": ".py",
   "mimetype": "text/x-python",
   "name": "python",
   "nbconvert_exporter": "python",
   "pygments_lexer": "ipython3",
   "version": "3.11.6"
  }
 },
 "nbformat": 4,
 "nbformat_minor": 2
}
